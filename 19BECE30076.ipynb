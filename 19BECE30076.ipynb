{
  "nbformat": 4,
  "nbformat_minor": 0,
  "metadata": {
    "colab": {
      "name": "19BECE30076.ipynb",
      "private_outputs": true,
      "provenance": [],
      "collapsed_sections": []
    },
    "kernelspec": {
      "name": "python3",
      "display_name": "Python 3"
    },
    "language_info": {
      "name": "python"
    }
  },
  "cells": [
    {
      "cell_type": "code",
      "execution_count": null,
      "metadata": {
        "id": "TnQIw38eavpJ"
      },
      "outputs": [],
      "source": [
        "import pandas as pd\n",
        "import numpy as np\n",
        "import matplotlib.pyplot as plt\n",
        "import seaborn as sns"
      ]
    },
    {
      "cell_type": "code",
      "source": [
        "df = pd.read_csv('Car price.csv')\n"
      ],
      "metadata": {
        "id": "7I75y2VNbEwO"
      },
      "execution_count": null,
      "outputs": []
    },
    {
      "cell_type": "code",
      "source": [
        "df"
      ],
      "metadata": {
        "id": "_HzAI9LzcSmc"
      },
      "execution_count": null,
      "outputs": []
    },
    {
      "cell_type": "code",
      "source": [
        "df.info()"
      ],
      "metadata": {
        "id": "bh6reN7ibYLs"
      },
      "execution_count": null,
      "outputs": []
    },
    {
      "cell_type": "code",
      "source": [
        "df.isnull().sum()"
      ],
      "metadata": {
        "id": "eGjkcMs_bbQX"
      },
      "execution_count": null,
      "outputs": []
    },
    {
      "cell_type": "code",
      "source": [
        "df = df.dropna()"
      ],
      "metadata": {
        "id": "_zVaRnK0d1gq"
      },
      "execution_count": null,
      "outputs": []
    },
    {
      "cell_type": "code",
      "source": [
        "from sklearn.preprocessing import LabelEncoder\n",
        "le=LabelEncoder()\n",
        "df[df.select_dtypes(include=['object']).columns]=df[df.select_dtypes(include=['object']).columns].apply(le.fit_transform)"
      ],
      "metadata": {
        "id": "gNjgkHCbgCdh"
      },
      "execution_count": null,
      "outputs": []
    },
    {
      "cell_type": "code",
      "source": [
        "df"
      ],
      "metadata": {
        "id": "NQVSc5lZgFZy"
      },
      "execution_count": null,
      "outputs": []
    },
    {
      "cell_type": "code",
      "source": [
        "df.describe()"
      ],
      "metadata": {
        "id": "lu9NfL7bbfYr"
      },
      "execution_count": null,
      "outputs": []
    },
    {
      "cell_type": "code",
      "source": [
        "sns.jointplot(x=df['Engine HP'], y=df['MSRP'], data=df, kind='reg')"
      ],
      "metadata": {
        "id": "0IDQ_o1s4MaJ"
      },
      "execution_count": null,
      "outputs": []
    },
    {
      "cell_type": "code",
      "source": [
        "df['Make'].value_counts()"
      ],
      "metadata": {
        "id": "nWCqt1Tml8gW"
      },
      "execution_count": null,
      "outputs": []
    },
    {
      "cell_type": "code",
      "source": [
        "df['Model'].value_counts()"
      ],
      "metadata": {
        "id": "rlpZ8erdmP5o"
      },
      "execution_count": null,
      "outputs": []
    },
    {
      "cell_type": "code",
      "source": [
        "df['Year'].value_counts()"
      ],
      "metadata": {
        "id": "0LfTUySrmQFA"
      },
      "execution_count": null,
      "outputs": []
    },
    {
      "cell_type": "code",
      "source": [
        "df['Engine Fuel Type'].value_counts()"
      ],
      "metadata": {
        "id": "FPbsXNElmQMC"
      },
      "execution_count": null,
      "outputs": []
    },
    {
      "cell_type": "code",
      "source": [
        "df['Engine HP'].value_counts()"
      ],
      "metadata": {
        "id": "tpIx_D6pmQQk"
      },
      "execution_count": null,
      "outputs": []
    },
    {
      "cell_type": "code",
      "source": [
        "df['Driven_Wheels'].value_counts()"
      ],
      "metadata": {
        "id": "ffpYD4eemQU7"
      },
      "execution_count": null,
      "outputs": []
    },
    {
      "cell_type": "code",
      "source": [
        "df['Number of Doors'].value_counts()"
      ],
      "metadata": {
        "id": "vjxy9kXRmQZb"
      },
      "execution_count": null,
      "outputs": []
    },
    {
      "cell_type": "code",
      "source": [
        "df['MSRP'].value_counts()"
      ],
      "metadata": {
        "id": "WuSA4qMAmQeU"
      },
      "execution_count": null,
      "outputs": []
    },
    {
      "cell_type": "code",
      "source": [
        "plt.figure(figsize=(20,10))\n",
        "sns.heatmap(df.corr(),annot=True,fmt='.2f')"
      ],
      "metadata": {
        "id": "JVvwsQ2Xc3fp"
      },
      "execution_count": null,
      "outputs": []
    },
    {
      "cell_type": "code",
      "source": [
        "#from the heatmap we can analyse that MSRP is highest corelate with Engine HP"
      ],
      "metadata": {
        "id": "Hj3toKSkjPKd"
      },
      "execution_count": null,
      "outputs": []
    },
    {
      "cell_type": "code",
      "source": [
        "# so here our independent variable is Engine Hp and dependent variable is MSRP"
      ],
      "metadata": {
        "id": "_DmEN1fgjtOF"
      },
      "execution_count": null,
      "outputs": []
    },
    {
      "cell_type": "code",
      "source": [
        "X = df['Engine HP']\n",
        "y = df['MSRP']"
      ],
      "metadata": {
        "id": "8TZOgX6uj83h"
      },
      "execution_count": null,
      "outputs": []
    },
    {
      "cell_type": "code",
      "source": [
        "#split data train and test\n",
        "from sklearn.model_selection import train_test_split\n"
      ],
      "metadata": {
        "id": "oLvUx_t7kiMH"
      },
      "execution_count": null,
      "outputs": []
    },
    {
      "cell_type": "code",
      "source": [
        "X_train,X_test,y_train,y_test = train_test_split(X,y,test_size=0.25,random_state=1)"
      ],
      "metadata": {
        "id": "Eb8SP309lKhh"
      },
      "execution_count": null,
      "outputs": []
    },
    {
      "cell_type": "code",
      "source": [
        "X_train = X_train.to_numpy()\n",
        "X_test = X_test.to_numpy()\n",
        "y_train = y_train.to_numpy()\n",
        "y_test = y_test.to_numpy()\n",
        "\n",
        "X_train = np.reshape(X_train, (-1,1))\n",
        "X_test = np.reshape(X_test, (-1,1))\n",
        "y_train = np.reshape(y_train, (-1,1))\n",
        "y_test = np.reshape(y_test, (-1,1))\n",
        "\n",
        "print('Train - Predictors shape', X_train.shape)\n",
        "print('Test - Predictors shape', X_test.shape)\n",
        "print('Train - Target shape', y_train.shape)\n",
        "print('Test - Target shape', y_test.shape)"
      ],
      "metadata": {
        "id": "XoItJuUAu51X"
      },
      "execution_count": null,
      "outputs": []
    },
    {
      "cell_type": "code",
      "source": [
        "from sklearn.linear_model import LinearRegression\n",
        "model_lr =  LinearRegression()"
      ],
      "metadata": {
        "id": "hG2LrWYa6TY-"
      },
      "execution_count": null,
      "outputs": []
    },
    {
      "cell_type": "code",
      "source": [
        "model_lr.fit(X_train,y_train)"
      ],
      "metadata": {
        "id": "Pa201UhY6bqh"
      },
      "execution_count": null,
      "outputs": []
    },
    {
      "cell_type": "code",
      "source": [
        "# calculate co-efficient\n",
        "def theta_calc(X_train, y_train): \n",
        "    #Initializing all variables\n",
        "    n_data = X_train.shape[0]\n",
        "    \n",
        "    bias = np.ones((n_data,1))\n",
        "    X_train_b = np.append(bias, X_train, axis=1)\n",
        "\n",
        "    theta_1 = np.linalg.inv(np.dot(X_train_b.T,X_train_b))\n",
        "    theta_2 = np.dot(theta_1, X_train_b.T)\n",
        "    theta = np.dot(theta_2,y_train)\n",
        "\n",
        "    return theta"
      ],
      "metadata": {
        "id": "FzAI4kuL4o78"
      },
      "execution_count": null,
      "outputs": []
    },
    {
      "cell_type": "code",
      "source": [
        "def predict_func(slope,intercept,X_test):\n",
        "    \n",
        "    pred = []\n",
        "    n_data = X_test.shape[0]\n",
        "    for i in range(n_data):\n",
        "        pred.append((slope * X_test[i] + intercept))\n",
        "             \n",
        "    return pred\n"
      ],
      "metadata": {
        "id": "_lctRF6w47Zy"
      },
      "execution_count": null,
      "outputs": []
    },
    {
      "cell_type": "code",
      "source": [
        "def mse_calc(prediction, y_test):\n",
        "    \n",
        "    total_data = len(prediction)\n",
        "    error = 0\n",
        "    error = (np.sum((prediction - y_test)**2))/total_data\n",
        "    return error"
      ],
      "metadata": {
        "id": "cd72GCGA5G7H"
      },
      "execution_count": null,
      "outputs": []
    },
    {
      "cell_type": "code",
      "source": [
        "def rsq(prediction, y_test):\n",
        "\n",
        "    total_data = len(prediction)\n",
        "    \n",
        "    #Average of total prediction \n",
        "    y_avg = np.sum(y_test)/total_data\n",
        "    \n",
        "    #total sum of square error\n",
        "    tot_err = np.sum((y_test-y_avg)**2)\n",
        "    \n",
        "    #total sum of squared error of residuals\n",
        "    res_err = np.sum((y_test-prediction)**2)\n",
        "    r2 = 1 - (res_err / tot_err)\n",
        "    return r2"
      ],
      "metadata": {
        "id": "mfvyacx-5Jd1"
      },
      "execution_count": null,
      "outputs": []
    },
    {
      "cell_type": "code",
      "source": [
        "#Finding optimal theta value using normal equations\n",
        "theta = theta_calc(X_train, y_train)\n",
        "intercept = theta[0]\n",
        "slope = theta[1]\n",
        "print('Intercept of the model', intercept)\n",
        "print('Slope of the model',slope)"
      ],
      "metadata": {
        "id": "IoDHQz8V5SfI"
      },
      "execution_count": null,
      "outputs": []
    },
    {
      "cell_type": "code",
      "source": [
        "#Prediction calculation\n",
        "prediction = predict_func(slope, intercept, X_test)"
      ],
      "metadata": {
        "id": "EXMbFlOO5ijU"
      },
      "execution_count": null,
      "outputs": []
    },
    {
      "cell_type": "code",
      "source": [
        "#R-square calculation\n",
        "r2_val = rsq(prediction, y_test)\n",
        "print('R squared value', r2_val)"
      ],
      "metadata": {
        "id": "r3dTTFIz6o2-"
      },
      "execution_count": null,
      "outputs": []
    },
    {
      "cell_type": "code",
      "source": [
        "#MSE calculation\n",
        "pred_df = pd.DataFrame(prediction)\n",
        "pred_df.columns=['Price']\n",
        "error =  mse_calc(prediction, y_test)\n",
        "print('Mean squared error of the model', error)"
      ],
      "metadata": {
        "id": "h3skWbAv5o1c"
      },
      "execution_count": null,
      "outputs": []
    },
    {
      "cell_type": "code",
      "source": [
        "model_lr.score(X_train,y_train)"
      ],
      "metadata": {
        "id": "sEXNPk-lwaeL"
      },
      "execution_count": null,
      "outputs": []
    },
    {
      "cell_type": "code",
      "source": [
        "model_lr.score(X_test,y_test)"
      ],
      "metadata": {
        "id": "yvAvwK6Tx6bq"
      },
      "execution_count": null,
      "outputs": []
    },
    {
      "cell_type": "code",
      "source": [
        "from sklearn.metrics import mean_squared_error,r2_score\n",
        "y_pred=model_lr.predict(X_test)\n"
      ],
      "metadata": {
        "id": "TKTZHQruyeFe"
      },
      "execution_count": null,
      "outputs": []
    },
    {
      "cell_type": "code",
      "source": [
        "y_pred.shape"
      ],
      "metadata": {
        "id": "1I5H_03C0o1e"
      },
      "execution_count": null,
      "outputs": []
    },
    {
      "cell_type": "code",
      "source": [
        "#Import scikit-learn metrics module for accuracy calculation\n",
        "\n",
        "# Model Accuracy, how often is the classifier correct?\n",
        "print(\"Accuracy:\",mean_squared_error(y_test, y_pred))\n",
        "print(\"r2_score:\",r2_score(y_test, y_pred))"
      ],
      "metadata": {
        "id": "-MTjz4ULy5ty"
      },
      "execution_count": null,
      "outputs": []
    },
    {
      "cell_type": "code",
      "source": [
        "y_pred2=model_lr.predict(X_train)"
      ],
      "metadata": {
        "id": "C7_9dWqszVJ9"
      },
      "execution_count": null,
      "outputs": []
    },
    {
      "cell_type": "code",
      "source": [
        "# Model Accuracy, how often is the classifier correct?\n",
        "print(\"Accuracy:\",mean_squared_error(y_train, y_pred2))"
      ],
      "metadata": {
        "id": "D-vHVW2FzYEX"
      },
      "execution_count": null,
      "outputs": []
    }
  ]
}